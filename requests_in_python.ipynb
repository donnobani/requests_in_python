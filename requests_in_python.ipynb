{
 "cells": [
  {
   "cell_type": "markdown",
   "id": "618dd4e5-acac-4f13-ab4f-b40fcf4363e1",
   "metadata": {},
   "source": [
    "## Requests in Python"
   ]
  },
  {
   "cell_type": "markdown",
   "id": "09127d57-c2c9-4f79-beed-a88ecc95d582",
   "metadata": {
    "tags": []
   },
   "source": [
    "The Request library allows you to send HTTP/1.1 requests easily"
   ]
  },
  {
   "cell_type": "code",
   "execution_count": 2,
   "id": "3e680609-fcbe-4898-a190-d60dc4d134ff",
   "metadata": {
    "tags": []
   },
   "outputs": [],
   "source": [
    "import requests\n",
    "import os\n",
    "from PIL import Image\n",
    "from IPython.display import IFrame"
   ]
  },
  {
   "cell_type": "markdown",
   "id": "5baff399-a0ec-4ab4-a2e6-20d6a2d7b9fd",
   "metadata": {},
   "source": [
    "You can make <code>GET</code> via the get method"
   ]
  },
  {
   "cell_type": "code",
   "execution_count": 3,
   "id": "4bb8eeb3-3b76-439d-802e-a9a7d0c7bf8c",
   "metadata": {
    "tags": []
   },
   "outputs": [],
   "source": [
    "url='https://www.ibm.com/'\n",
    "r= requests.get(url)"
   ]
  },
  {
   "cell_type": "markdown",
   "id": "c5a741de-02b8-4f03-a662-10e1620c7b7e",
   "metadata": {},
   "source": [
    "<p>'r' is our response object. </br>\n",
    "It has information about the request.\n",
    "    </p>"
   ]
  },
  {
   "cell_type": "code",
   "execution_count": 30,
   "id": "61cb5807-250a-4e72-8b24-f494a631a448",
   "metadata": {
    "tags": []
   },
   "outputs": [
    {
     "name": "stdout",
     "output_type": "stream",
     "text": [
      "status code:  200\n"
     ]
    }
   ],
   "source": [
    "print(\"status code: \",r.status_code)"
   ]
  },
  {
   "cell_type": "code",
   "execution_count": 31,
   "id": "349bbc24-7dce-4c8e-86d7-2a787b274052",
   "metadata": {
    "tags": []
   },
   "outputs": [
    {
     "name": "stdout",
     "output_type": "stream",
     "text": [
      "request headers: \n",
      " {'User-Agent': 'python-requests/2.29.0', 'Accept-Encoding': 'gzip, deflate, br', 'Accept': '*/*', 'Connection': 'keep-alive'}\n"
     ]
    }
   ],
   "source": [
    "print(\"request headers: \\n\" ,r.request.headers)"
   ]
  },
  {
   "cell_type": "code",
   "execution_count": 32,
   "id": "ce4a0613-1870-4197-8a2c-3992ffb2efa8",
   "metadata": {
    "tags": []
   },
   "outputs": [
    {
     "name": "stdout",
     "output_type": "stream",
     "text": [
      "response headers: \n",
      " {'Date': 'Mon, 21 Aug 2023 16:30:59 GMT', 'Content-Type': 'application/json', 'Content-Length': '372', 'Connection': 'keep-alive', 'Server': 'gunicorn/19.9.0', 'Access-Control-Allow-Origin': '*', 'Access-Control-Allow-Credentials': 'true'}\n"
     ]
    }
   ],
   "source": [
    "print(\"response headers: \\n\" ,r.headers)"
   ]
  },
  {
   "cell_type": "markdown",
   "id": "f40f2f44-4c08-46f2-bb83-2e522e7d419f",
   "metadata": {},
   "source": [
    "Now let's get the some more info for the request using it's keys"
   ]
  },
  {
   "cell_type": "code",
   "execution_count": 15,
   "id": "2d9c5e02-e7b9-4fbb-975f-f7a99fd811a2",
   "metadata": {
    "tags": []
   },
   "outputs": [
    {
     "data": {
      "text/plain": [
       "'Mon, 21 Aug 2023 16:17:22 GMT'"
      ]
     },
     "execution_count": 15,
     "metadata": {},
     "output_type": "execute_result"
    }
   ],
   "source": [
    "header = r.headers\n",
    "header['date']"
   ]
  },
  {
   "cell_type": "code",
   "execution_count": 16,
   "id": "ab94e219-abe4-4f2d-9e24-afe0456f40b8",
   "metadata": {
    "tags": []
   },
   "outputs": [
    {
     "data": {
      "text/plain": [
       "'text/html'"
      ]
     },
     "execution_count": 16,
     "metadata": {},
     "output_type": "execute_result"
    }
   ],
   "source": [
    "header['Content-Type']"
   ]
  },
  {
   "cell_type": "code",
   "execution_count": 17,
   "id": "470d594e-1559-419f-877c-e9e84416db46",
   "metadata": {
    "tags": []
   },
   "outputs": [
    {
     "data": {
      "text/plain": [
       "'ISO-8859-1'"
      ]
     },
     "execution_count": 17,
     "metadata": {},
     "output_type": "execute_result"
    }
   ],
   "source": [
    "r.encoding"
   ]
  },
  {
   "cell_type": "markdown",
   "id": "b1fe7c3d-9b1f-4935-902d-9c93434872ca",
   "metadata": {},
   "source": [
    "## Now let's try with parameters"
   ]
  },
  {
   "cell_type": "code",
   "execution_count": 20,
   "id": "f9fda636-9668-4616-8ed4-cfc0d00cffac",
   "metadata": {
    "tags": []
   },
   "outputs": [],
   "source": [
    "url_get = 'http://httpbin.org/get'\n",
    "payload = {'name':'Joseph','ID':'123'}\n"
   ]
  },
  {
   "cell_type": "code",
   "execution_count": 21,
   "id": "8302938e-77d4-468f-a625-635885b34a81",
   "metadata": {
    "tags": []
   },
   "outputs": [],
   "source": [
    "r = requests.get(url_get,params=payload)"
   ]
  },
  {
   "cell_type": "code",
   "execution_count": 22,
   "id": "0048b98d-1c28-4239-a953-07a03abb78f3",
   "metadata": {
    "tags": []
   },
   "outputs": [
    {
     "data": {
      "text/plain": [
       "'http://httpbin.org/get?name=Joseph&ID=123'"
      ]
     },
     "execution_count": 22,
     "metadata": {},
     "output_type": "execute_result"
    }
   ],
   "source": [
    "r.url"
   ]
  },
  {
   "cell_type": "code",
   "execution_count": 23,
   "id": "78967e04-dc4e-4d24-9ddd-2c9b6664957e",
   "metadata": {
    "tags": []
   },
   "outputs": [
    {
     "name": "stdout",
     "output_type": "stream",
     "text": [
      "{\n",
      "  \"args\": {\n",
      "    \"ID\": \"123\", \n",
      "    \"name\": \"Joseph\"\n",
      "  }, \n",
      "  \"headers\": {\n",
      "    \"Accept\": \"*/*\", \n",
      "    \"Accept-Encoding\": \"gzip, deflate, br\", \n",
      "    \"Host\": \"httpbin.org\", \n",
      "    \"User-Agent\": \"python-requests/2.29.0\", \n",
      "    \"X-Amzn-Trace-Id\": \"Root=1-64e39143-273ff39c69cfccd31760235d\"\n",
      "  }, \n",
      "  \"origin\": \"69.127.115.176\", \n",
      "  \"url\": \"http://httpbin.org/get?name=Joseph&ID=123\"\n",
      "}\n",
      "\n"
     ]
    }
   ],
   "source": [
    "print(r.text)"
   ]
  },
  {
   "cell_type": "code",
   "execution_count": 26,
   "id": "d554458b-f83a-4aad-bfe6-616ec9edb8dd",
   "metadata": {
    "tags": []
   },
   "outputs": [
    {
     "data": {
      "text/plain": [
       "{'ID': '123', 'name': 'Joseph'}"
      ]
     },
     "execution_count": 26,
     "metadata": {},
     "output_type": "execute_result"
    }
   ],
   "source": [
    "r.json()['args']"
   ]
  },
  {
   "cell_type": "markdown",
   "id": "c7e82772-956e-4069-8df5-cfabac96a8f9",
   "metadata": {},
   "source": [
    "## POST requests"
   ]
  },
  {
   "cell_type": "markdown",
   "id": "59650a4c-adb5-419f-a4cd-0787111902c4",
   "metadata": {},
   "source": [
    "Similar to a get request but sends data in the request body\n"
   ]
  },
  {
   "cell_type": "code",
   "execution_count": 27,
   "id": "aa9d85fd-034a-4723-9a1c-75c2ece66e53",
   "metadata": {
    "tags": []
   },
   "outputs": [],
   "source": [
    "url_post='http://httpbin.org/post'"
   ]
  },
  {
   "cell_type": "markdown",
   "id": "62058d6b-51da-4ad9-89f9-517eb0a72b94",
   "metadata": {},
   "source": [
    "<p>This endpoint will expect data as a file or form</br>\n",
    "A form is a convienent way to configure an HTTP request to send data to a server.\n",
    "</p>"
   ]
  },
  {
   "cell_type": "code",
   "execution_count": 35,
   "id": "6354f9e7-205a-4109-8d75-9eef1a22eb2f",
   "metadata": {
    "tags": []
   },
   "outputs": [
    {
     "data": {
      "text/plain": [
       "{'ID': '123', 'name': 'Joseph'}"
      ]
     },
     "execution_count": 35,
     "metadata": {},
     "output_type": "execute_result"
    }
   ],
   "source": [
    "r_post=requests.post(url_post,data=payload)\n",
    "r_post.json()['form']"
   ]
  },
  {
   "cell_type": "markdown",
   "id": "a9ca3e8a-b07a-418a-8a5f-3efc5e67673b",
   "metadata": {},
   "source": [
    "Let's compare the responses for our <code>GET</code> and <code>POST</code>\n",
    "requests."
   ]
  },
  {
   "cell_type": "code",
   "execution_count": 33,
   "id": "231d78e3-6bbd-4944-8f3a-3be8dff63a4f",
   "metadata": {
    "tags": []
   },
   "outputs": [
    {
     "name": "stdout",
     "output_type": "stream",
     "text": [
      "POST request url: http://httpbin.org/post\n",
      "GET request url: http://httpbin.org/get?name=Joseph&ID=123\n"
     ]
    }
   ],
   "source": [
    "print('POST request url:', r_post.url)\n",
    "print('GET request url:', r.url)"
   ]
  },
  {
   "cell_type": "markdown",
   "id": "978e460b-4b78-4cb9-aa19-7a084b9f39f9",
   "metadata": {},
   "source": [
    "Let's compare the body for our <code>GET</code> and <code>POST</code>\n",
    "requests."
   ]
  },
  {
   "cell_type": "code",
   "execution_count": null,
   "id": "d51fede4-e0f0-4d4a-a483-9dc77d6b2a39",
   "metadata": {},
   "outputs": [],
   "source": []
  }
 ],
 "metadata": {
  "kernelspec": {
   "display_name": "Python 3 (ipykernel)",
   "language": "python",
   "name": "python3"
  },
  "language_info": {
   "codemirror_mode": {
    "name": "ipython",
    "version": 3
   },
   "file_extension": ".py",
   "mimetype": "text/x-python",
   "name": "python",
   "nbconvert_exporter": "python",
   "pygments_lexer": "ipython3",
   "version": "3.11.3"
  }
 },
 "nbformat": 4,
 "nbformat_minor": 5
}
